{
 "cells": [
  {
   "cell_type": "code",
   "execution_count": null,
   "metadata": {},
   "outputs": [],
   "source": [
    "import keras\n",
    "import matplotlib.pyplot as plt\n",
    "\n",
    "\n",
    "def plot_history(history: keras.callbacks.History):\n",
    "    metrics = [metric for metric in history.history.keys() if not metric.startswith('val_')]\n",
    "    stride = len(history.epoch)//20\n",
    "    plotted_epochs = history.epoch[::stride]\n",
    "    \n",
    "    fig, subplots = plt.subplots(len(metrics), figsize=(8, 4*len(metrics)))\n",
    "    subplots = subplots if len(metrics) != 1 else (subplots,)\n",
    "    fig.tight_layout(h_pad=3, rect=[0, 0, 1, 0.95])\n",
    "    fig.suptitle('Model training history', fontsize=18)\n",
    "    \n",
    "    for metric, subplot in zip(metrics, subplots):\n",
    "        subplot.plot(plotted_epochs, history.history[metric][::stride], marker='.')\n",
    "        try: subplot.plot(plotted_epochs, history.history[f'val_{metric}'], marker='.')\n",
    "        except KeyError: pass\n",
    "        subplot.set_xticks(plotted_epochs)\n",
    "        subplot.set_ylabel(metric)\n",
    "        subplot.set_xlabel('epoch')\n",
    "    \n",
    "    if len(metrics) != len(history.history):\n",
    "        fig.legend(['training', 'validation'])"
   ]
  }
 ],
 "metadata": {
  "kernelspec": {
   "display_name": "Python 3",
   "language": "python",
   "name": "python3"
  },
  "language_info": {
   "codemirror_mode": {
    "name": "ipython",
    "version": 3
   },
   "file_extension": ".py",
   "mimetype": "text/x-python",
   "name": "python",
   "nbconvert_exporter": "python",
   "pygments_lexer": "ipython3",
   "version": "3.7.6"
  }
 },
 "nbformat": 4,
 "nbformat_minor": 4
}
